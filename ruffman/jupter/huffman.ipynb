{
 "cells": [
  {
   "cell_type": "markdown",
   "metadata": {},
   "source": [
    "# 01. Considerando uma cadeia de caracteres C, implemente um algoritmo para calcular a frequência de ocorrência de cada caractere e retorne uma tabela ordenada por maior frequência."
   ]
  },
  {
   "cell_type": "code",
   "execution_count": 4,
   "metadata": {},
   "outputs": [
    {
     "name": "stdout",
     "output_type": "stream",
     "text": [
      "{'a': 4, ' ': 3, 'p': 3, 'e': 3, 'l': 3, 's': 2, 't': 2, 'c': 1, 'h': 1, 'o': 1}\n"
     ]
    }
   ],
   "source": [
    "frase = \"casa papel hotel pastel\"\n",
    "dic = {}\n",
    "for i in frase:\n",
    "    try:\n",
    "        dic[i] += 1\n",
    "    except(KeyError):\n",
    "        dic[i] = 1\n",
    "\n",
    "dicFinal = {}\n",
    "for i in sorted(dic, key=dic.get, reverse=True):\n",
    "    dicFinal[i] = dic[i]\n",
    "\n",
    "print(dicFinal)\n"
   ]
  },
  {
   "cell_type": "markdown",
   "metadata": {},
   "source": [
    "## 02. Dado uma árvore de Huffman, monte uma tabela contendo o código a ser utilizado para comprimir cada caractere contido na árvore. A tabela a ser retornada deve ser uma matriz com duas colunas, onde a segunda coluna contém o código correspondente ao caractere contigo na primeira coluna."
   ]
  },
  {
   "cell_type": "code",
   "execution_count": 5,
   "metadata": {},
   "outputs": [
    {
     "name": "stdout",
     "output_type": "stream",
     "text": [
      "t -> 000\n",
      "c -> 0010\n",
      "h -> 0011\n",
      "  -> 010\n",
      "p -> 011\n",
      "e -> 100\n",
      "l -> 101\n",
      "o -> 1100\n",
      "s -> 1101\n",
      "a -> 111\n",
      "{'t': '000', 'c': '0010', 'h': '0011', ' ': '010', 'p': '011', 'e': '100', 'l': '101', 'o': '1100', 's': '1101', 'a': '111'}\n"
     ]
    }
   ],
   "source": [
    "class node:\n",
    "    def __init__(self, freq, symbol, left=None, right=None):\n",
    "        # frequency of symbol\n",
    "        self.freq = freq\n",
    "\n",
    "        # symbol name (character)\n",
    "        self.symbol = symbol\n",
    "\n",
    "        # node left of current node\n",
    "        self.left = left\n",
    "\n",
    "        # node right of current node\n",
    "        self.right = right\n",
    "\n",
    "        # tree direction (0/1)\n",
    "        self.huff = ''\n",
    "\n",
    "\n",
    "nodes = []\n",
    "\n",
    "for i in dicFinal:\n",
    "    nodes.append(node(dicFinal[i], i))\n",
    "\n",
    "while len(nodes) > 1:\n",
    "    nodes = sorted(nodes, key=lambda x: x.freq)\n",
    "\n",
    "    left = nodes[0]\n",
    "    right = nodes[1]\n",
    "\n",
    "    left.huff = 0\n",
    "    right.huff = 1\n",
    "\n",
    "    newNode = node(left.freq+right.freq, left.symbol+right.symbol, left, right)\n",
    "\n",
    "    nodes.remove(left)\n",
    "    nodes.remove(right)\n",
    "    nodes.append(newNode)\n",
    "\n",
    "\n",
    "\n",
    "def printNodes(node, val='', lista={}):\n",
    "    newVal = val + str(node.huff)\n",
    "\n",
    "    if(node.left):\n",
    "        printNodes(node.left, newVal, lista)\n",
    "    if(node.right):\n",
    "        printNodes(node.right, newVal, lista)\n",
    "\n",
    "    if(not node.left and not node.right):\n",
    "        lista[node.symbol] = newVal\n",
    "        print(f\"{node.symbol} -> {newVal}\")\n",
    "\n",
    "    return lista\n",
    "\n",
    "tabela = printNodes(nodes[0])\n",
    "print(tabela)\n"
   ]
  },
  {
   "cell_type": "markdown",
   "metadata": {},
   "source": [
    "## 03. Dada uma sequência de caractere e uma tabela como a retornada no exercício anterior, crie uma função de Huffman que retorne o código comprimido para a sequência de entrada. Para facilitar, considere o código comprimido como sendo uma cadeia de caracteres, ao invés de uma sequência de bits."
   ]
  },
  {
   "cell_type": "code",
   "execution_count": 6,
   "metadata": {},
   "outputs": [
    {
     "name": "stdout",
     "output_type": "stream",
     "text": [
      "casa papel hotel pastel\n",
      "{'t': '000', 'c': '0010', 'h': '0011', ' ': '010', 'p': '011', 'e': '100', 'l': '101', 'o': '1100', 's': '1101', 'a': '111'}\n",
      "00101111101111010011111011100101010001111000001001010100111111101000100101\n"
     ]
    }
   ],
   "source": [
    "print(frase)\n",
    "print(tabela)\n",
    "\n",
    "compressao = ''\n",
    "for i in frase:\n",
    "    try:\n",
    "        compressao += tabela[i]\n",
    "    except(KeyError):\n",
    "        pass\n",
    "\n",
    "print(compressao)\n"
   ]
  },
  {
   "cell_type": "code",
   "execution_count": null,
   "metadata": {},
   "outputs": [],
   "source": []
  }
 ],
 "metadata": {
  "interpreter": {
   "hash": "9edcf7b6bbb172b6d08dc88d9280cc3da9527e73e9ccf9ac2222cf3b9b8dea6b"
  },
  "kernelspec": {
   "display_name": "Python 3.9.6 64-bit",
   "name": "python3"
  },
  "language_info": {
   "codemirror_mode": {
    "name": "ipython",
    "version": 3
   },
   "file_extension": ".py",
   "mimetype": "text/x-python",
   "name": "python",
   "nbconvert_exporter": "python",
   "pygments_lexer": "ipython3",
   "version": "3.9.6"
  },
  "orig_nbformat": 4
 },
 "nbformat": 4,
 "nbformat_minor": 2
}
