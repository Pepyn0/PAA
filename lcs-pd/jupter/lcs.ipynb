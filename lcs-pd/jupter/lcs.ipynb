{
 "cells": [
  {
   "cell_type": "code",
   "execution_count": 1,
   "metadata": {},
   "outputs": [],
   "source": [
    "DIAGONAL = 1\n",
    "CIMA = 2\n",
    "ESQUERDA = 3\n",
    "# Dynamic Programming implementation of LCS problem\n",
    "\n",
    "def lcs(X, Y):\n",
    "    m = len(X)\n",
    "    n = len(Y)\n",
    "    print(m, n)\n",
    "\n",
    "    matriz = [[None]*(n + 1) for i in range(m + 1)]\n",
    "    result = [[None]*(n + 1) for i in range(m + 1)]\n",
    "\n",
    "\n",
    "    for i in range(m + 1):\n",
    "        for j in range(n + 1):\n",
    "            if i == 0 or j == 0 :\n",
    "                matriz[i][j] = 0\n",
    "                result[i][j] = 0\n",
    "\n",
    "            elif X[i-1] == Y[j-1]:\n",
    "                matriz[i][j] = matriz[i-1][j-1]+1\n",
    "                result[i][j] = DIAGONAL\n",
    "\n",
    "            elif(matriz[i-1][j] >= matriz[i][j-1]):\n",
    "                matriz[i][j] = matriz[i-1][j]\n",
    "                result[i][j] = CIMA\n",
    "\n",
    "            else:\n",
    "                matriz[i][j] = matriz[i][j-1]\n",
    "                result[i][j] = ESQUERDA\n",
    "\n",
    "    mostrarMatriz(X, Y, matriz, result)\n",
    "    printLCS(X, result, m, n)\n",
    "    return matriz[m][n]\n",
    "\n",
    "def printLCS(X, result, i, j):\n",
    "    if i == 0 or j == 0:\n",
    "        return\n",
    "    if result[i][j] == DIAGONAL:\n",
    "        printLCS(X, result, i - 1, j - 1)\n",
    "        print(X[i - 1])\n",
    "    elif result[i][j] == CIMA:\n",
    "        printLCS(X, result, i - 1, j)\n",
    "    elif result[i][j] == ESQUERDA:\n",
    "        printLCS(X, result, i, j - 1)\n",
    "\n",
    "\n",
    "def mostrarMatriz(x: list, y: list, lista: list, result: list):\n",
    "    print(\"   \",end='')\n",
    "    print(\"[0]\", end='')\n",
    "    for i in y:\n",
    "        print(\"[{}]\".format(i),end='')\n",
    "    print()\n",
    "\n",
    "    for i in range(len(lista)):\n",
    "        if(i == 0):\n",
    "            print(\"[0]\", end='')\n",
    "        else:\n",
    "            print(\"[{}]\".format(x[i - 1]),end='')\n",
    "        print(lista[i])\n"
   ]
  },
  {
   "cell_type": "code",
   "execution_count": 2,
   "metadata": {},
   "outputs": [
    {
     "name": "stdout",
     "output_type": "stream",
     "text": [
      "8 11\n",
      "   [0][m][o][s][q][u][i][t][e][i][r][o]\n",
      "[0][0, 0, 0, 0, 0, 0, 0, 0, 0, 0, 0, 0]\n",
      "[n][0, 0, 0, 0, 0, 0, 0, 0, 0, 0, 0, 0]\n",
      "[o][0, 0, 1, 1, 1, 1, 1, 1, 1, 1, 1, 1]\n",
      "[c][0, 0, 1, 1, 1, 1, 1, 1, 1, 1, 1, 1]\n",
      "[t][0, 0, 1, 1, 1, 1, 1, 2, 2, 2, 2, 2]\n",
      "[u][0, 0, 1, 1, 1, 2, 2, 2, 2, 2, 2, 2]\n",
      "[r][0, 0, 1, 1, 1, 2, 2, 2, 2, 2, 3, 3]\n",
      "[n][0, 0, 1, 1, 1, 2, 2, 2, 2, 2, 3, 3]\n",
      "[o][0, 0, 1, 1, 1, 2, 2, 2, 2, 2, 3, 4]\n",
      "o\n",
      "t\n",
      "r\n",
      "o\n",
      "LCS ==  4\n"
     ]
    }
   ],
   "source": [
    "\n",
    "X = \"nocturno\"\n",
    "Y = \"mosquiteiro\"\n",
    "\n",
    "print(\"LCS == \", lcs(X, Y))"
   ]
  },
  {
   "cell_type": "code",
   "execution_count": 3,
   "metadata": {},
   "outputs": [
    {
     "name": "stdout",
     "output_type": "stream",
     "text": [
      "7 6\n",
      "   [0][a][g][t][a][b][g]\n",
      "[0][0, 0, 0, 0, 0, 0, 0]\n",
      "[g][0, 0, 1, 1, 1, 1, 1]\n",
      "[a][0, 1, 1, 1, 2, 2, 2]\n",
      "[t][0, 1, 1, 2, 2, 2, 2]\n",
      "[a][0, 1, 1, 2, 3, 3, 3]\n",
      "[u][0, 1, 1, 2, 3, 3, 3]\n",
      "[b][0, 1, 1, 2, 3, 4, 4]\n",
      "[g][0, 1, 2, 2, 3, 4, 5]\n",
      "g\n",
      "t\n",
      "a\n",
      "b\n",
      "g\n",
      "LCS ==  5\n"
     ]
    }
   ],
   "source": [
    "X = \"gataubg\"\n",
    "Y = \"agtabg\"\n",
    "\n",
    "print(\"LCS == \", lcs(X, Y))"
   ]
  },
  {
   "cell_type": "code",
   "execution_count": 4,
   "metadata": {},
   "outputs": [
    {
     "name": "stdout",
     "output_type": "stream",
     "text": [
      "7 6\n",
      "   [0][b][d][c][a][b][a]\n",
      "[0][0, 0, 0, 0, 0, 0, 0]\n",
      "[a][0, 0, 0, 0, 1, 1, 1]\n",
      "[b][0, 1, 1, 1, 1, 2, 2]\n",
      "[c][0, 1, 1, 2, 2, 2, 2]\n",
      "[b][0, 1, 1, 2, 2, 3, 3]\n",
      "[d][0, 1, 2, 2, 2, 3, 3]\n",
      "[a][0, 1, 2, 2, 3, 3, 4]\n",
      "[b][0, 1, 2, 2, 3, 4, 4]\n",
      "b\n",
      "c\n",
      "b\n",
      "a\n",
      "LCS ==  4\n"
     ]
    }
   ],
   "source": [
    "X = \"abcbdab\"\n",
    "Y = \"bdcaba\"\n",
    "\n",
    "print(\"LCS == \", lcs(X, Y))\n"
   ]
  },
  {
   "cell_type": "code",
   "execution_count": null,
   "metadata": {},
   "outputs": [],
   "source": []
  }
 ],
 "metadata": {
  "interpreter": {
   "hash": "9edcf7b6bbb172b6d08dc88d9280cc3da9527e73e9ccf9ac2222cf3b9b8dea6b"
  },
  "kernelspec": {
   "display_name": "Python 3.9.6 64-bit",
   "language": "python",
   "name": "python3"
  },
  "language_info": {
   "codemirror_mode": {
    "name": "ipython",
    "version": 3
   },
   "file_extension": ".py",
   "mimetype": "text/x-python",
   "name": "python",
   "nbconvert_exporter": "python",
   "pygments_lexer": "ipython3",
   "version": "3.9.6"
  },
  "orig_nbformat": 4
 },
 "nbformat": 4,
 "nbformat_minor": 2
}
